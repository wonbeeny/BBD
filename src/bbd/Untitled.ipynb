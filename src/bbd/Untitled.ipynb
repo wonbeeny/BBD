{
 "cells": [
  {
   "cell_type": "code",
   "execution_count": 1,
   "id": "1af50174-b8a1-4bb1-9a7b-62768514707e",
   "metadata": {
    "tags": []
   },
   "outputs": [],
   "source": [
    "from register.record2sheet import PreProcessor, PostProcessor"
   ]
  },
  {
   "cell_type": "code",
   "execution_count": 2,
   "id": "fe3d1709-2cb4-4e3e-b398-d0286161100c",
   "metadata": {
    "tags": []
   },
   "outputs": [],
   "source": [
    "user_id = \"원빈\"\n",
    "user_text = \"사 / 5500 / ㅇㅈ / 재정관리ㄹㄹㄹ\"\n",
    "url = \"https://docs.google.com/spreadsheets/d/1lGG54Vqz4N7A4BuwRaTpzJXZHqWx57IAQg5cXF5eGR0/edit#gid=670084561\"\n",
    "user_json = {\n",
    "    \"원빈\": [\"./bbd-423608-45b92e7d4ee1.json\", url]\n",
    "}"
   ]
  },
  {
   "cell_type": "code",
   "execution_count": 3,
   "id": "ca860fdd-508b-4f42-9157-c59c240783d1",
   "metadata": {
    "tags": []
   },
   "outputs": [],
   "source": [
    "test_pre = PreProcessor(user_id, user_text)\n",
    "aaa = test_pre()"
   ]
  },
  {
   "cell_type": "code",
   "execution_count": 4,
   "id": "fb421e33-bbdc-4400-91d1-8ba860cbef1d",
   "metadata": {
    "tags": []
   },
   "outputs": [],
   "source": [
    "trial = aaa.trial\n",
    "outputs = aaa.outputs\n",
    "errors = aaa.errors"
   ]
  },
  {
   "cell_type": "code",
   "execution_count": 5,
   "id": "25d1bf74-241b-474b-9af9-cf5f56a9ed60",
   "metadata": {
    "tags": []
   },
   "outputs": [],
   "source": [
    "test_post = PostProcessor(trial, errors)\n",
    "bbb = test_post(user_json, user_id, outputs)"
   ]
  },
  {
   "cell_type": "code",
   "execution_count": 6,
   "id": "d615d163-fd26-4b65-9a5e-46b19f8d2ee9",
   "metadata": {
    "tags": []
   },
   "outputs": [
    {
     "data": {
      "text/plain": [
       "PostProcessOutput(trial=True, outputs='Yes~~~', errors=[])"
      ]
     },
     "execution_count": 6,
     "metadata": {},
     "output_type": "execute_result"
    }
   ],
   "source": [
    "bbb"
   ]
  },
  {
   "cell_type": "code",
   "execution_count": null,
   "id": "88498338-f222-4bcd-b430-e22a52beb0ed",
   "metadata": {},
   "outputs": [],
   "source": []
  },
  {
   "cell_type": "code",
   "execution_count": null,
   "id": "8d6057e5-2654-4178-b29f-9879585d5636",
   "metadata": {},
   "outputs": [],
   "source": []
  },
  {
   "cell_type": "code",
   "execution_count": null,
   "id": "c71c5c3d-f8a4-416c-b4f3-7ab66aa640b5",
   "metadata": {},
   "outputs": [],
   "source": []
  },
  {
   "cell_type": "code",
   "execution_count": 12,
   "id": "affc39c1-3491-4abf-adfc-d8dcf157e581",
   "metadata": {
    "tags": []
   },
   "outputs": [
    {
     "name": "stdout",
     "output_type": "stream",
     "text": [
      "True\n"
     ]
    }
   ],
   "source": [
    "import requests\n",
    "\n",
    "def is_google_spreadsheet_accessible(url):\n",
    "    # Google 스프레드시트 URL 형식 확인\n",
    "    if \"docs.google.com/spreadsheets\" not in url:\n",
    "        return False\n",
    "    \n",
    "    try:\n",
    "        # URL에 HEAD 요청을 보내어 접근 가능 여부 확인\n",
    "        response = requests.head(url)\n",
    "        # 200-399 사이의 상태 코드는 정상적인 접근을 의미\n",
    "        return 200 <= response.status_code < 400\n",
    "    except requests.RequestException:\n",
    "        return False\n",
    "\n",
    "# 사용 예\n",
    "url = \"https://docs.google.com/spreadsheets/d/10C85ZfCwPhfLAhppdHAtYGdL37MytPz2JsY0p_MAlnQ/edit#gid=0\"\n",
    "print(is_google_spreadsheet_accessible(url))\n"
   ]
  },
  {
   "cell_type": "code",
   "execution_count": 12,
   "id": "ead9efcb-44fc-4adc-836b-869d14067fa4",
   "metadata": {
    "tags": []
   },
   "outputs": [],
   "source": [
    "import requests"
   ]
  },
  {
   "cell_type": "code",
   "execution_count": 13,
   "id": "820bb729-891a-4bd0-ade5-f0b84b0921dc",
   "metadata": {
    "tags": []
   },
   "outputs": [],
   "source": [
    "response = requests.head(url)"
   ]
  },
  {
   "cell_type": "code",
   "execution_count": 14,
   "id": "b9cebdba-8d45-4d31-9841-4a0060579149",
   "metadata": {
    "tags": []
   },
   "outputs": [
    {
     "data": {
      "text/plain": [
       "<Response [302]>"
      ]
     },
     "execution_count": 14,
     "metadata": {},
     "output_type": "execute_result"
    }
   ],
   "source": [
    "response"
   ]
  },
  {
   "cell_type": "code",
   "execution_count": 16,
   "id": "3e59ffd2-6add-4c65-93d5-d81a54c94907",
   "metadata": {
    "tags": []
   },
   "outputs": [],
   "source": [
    "from google.oauth2.credentials import Credentials\n",
    "from google_auth_oauthlib.flow import InstalledAppFlow\n",
    "from googleapiclient.discovery import build\n",
    "from googleapiclient.errors import HttpError"
   ]
  },
  {
   "cell_type": "code",
   "execution_count": 18,
   "id": "02fcfb3e-7731-4b2c-afc4-217d5912a6b1",
   "metadata": {
    "tags": []
   },
   "outputs": [
    {
     "data": {
      "text/plain": [
       "{'spreadsheetId': '1lGG54Vqz4N7A4BuwRaTpzJXZHqWx57IAQg5cXF5eGR0',\n",
       " 'updatedRange': \"'지출 내역'!A2\",\n",
       " 'updatedRows': 1,\n",
       " 'updatedColumns': 1,\n",
       " 'updatedCells': 1}"
      ]
     },
     "execution_count": 18,
     "metadata": {},
     "output_type": "execute_result"
    }
   ],
   "source": [
    "import gspread\n",
    "from oauth2client.service_account import ServiceAccountCredentials\n",
    "\n",
    "# Authenticate with Google Sheets API\n",
    "scope = ['https://spreadsheets.google.com/feeds',\n",
    "         'https://www.googleapis.com/auth/drive']\n",
    "creds = ServiceAccountCredentials.from_json_keyfile_name('./bbd-423608-45b92e7d4ee1.json', scope)\n",
    "client = gspread.authorize(creds)\n",
    "\n",
    "# Open the spreadsheet and select the worksheet by name\n",
    "spreadsheet = client.open('버버두 Template')\n",
    "worksheet = spreadsheet.worksheet('지출 내역')\n",
    "\n",
    "# Update a cell's value\n",
    "row_num = 2\n",
    "col_num = 1\n",
    "cell = worksheet.cell(row_num, col_num)\n",
    "cell.value = 'New Value'\n",
    "worksheet.update_cell(row_num, col_num, 'TestValue')"
   ]
  },
  {
   "cell_type": "code",
   "execution_count": 23,
   "id": "7924ff0f-6d89-4394-a4fa-644c3c0b08fa",
   "metadata": {
    "tags": []
   },
   "outputs": [
    {
     "name": "stdout",
     "output_type": "stream",
     "text": [
      "Value added at A7\n"
     ]
    }
   ],
   "source": [
    "import gspread\n",
    "from oauth2client.service_account import ServiceAccountCredentials\n",
    "\n",
    "def append_value_to_column(sheet_url, json_key_path, column='A'):\n",
    "    # 구글 인증\n",
    "    scope = ['https://spreadsheets.google.com/feeds', 'https://www.googleapis.com/auth/drive']\n",
    "    creds = ServiceAccountCredentials.from_json_keyfile_name(json_key_path, scope)\n",
    "    client = gspread.authorize(creds)\n",
    "\n",
    "    # 스프레드시트 오픈\n",
    "    sheet = client.open_by_url(sheet_url)\n",
    "    worksheet = sheet.get_worksheet(0)  # 첫 번째 워크시트 사용\n",
    "\n",
    "    # A열 데이터 읽기\n",
    "    column_data = worksheet.col_values(1)  # 'A'열은 1번째 열\n",
    "    \n",
    "    # 빈 셀 찾기\n",
    "    row_to_write = len(column_data) + 1  # 기본적으로 데이터 끝에 추가\n",
    "\n",
    "    # 새 값 입력\n",
    "    new_value = \"0518_text\"\n",
    "    worksheet.update_acell(f'{column}{row_to_write}', new_value)\n",
    "    print(f'Value added at {column}{row_to_write}')\n",
    "\n",
    "    \n",
    "# 사용 예\n",
    "append_value_to_column('https://docs.google.com/spreadsheets/d/1lGG54Vqz4N7A4BuwRaTpzJXZHqWx57IAQg5cXF5eGR0/edit#gid=670084561', './bbd-423608-45b92e7d4ee1.json')\n"
   ]
  },
  {
   "cell_type": "code",
   "execution_count": 21,
   "id": "0301af42-cf33-41b5-87e6-c2e64cd12e81",
   "metadata": {
    "tags": []
   },
   "outputs": [
    {
     "name": "stdout",
     "output_type": "stream",
     "text": [
      "Value added at A5\n"
     ]
    }
   ],
   "source": [
    "append_value_to_column('https://docs.google.com/spreadsheets/d/1lGG54Vqz4N7A4BuwRaTpzJXZHqWx57IAQg5cXF5eGR0/edit#gid=670084561', './bbd-423608-45b92e7d4ee1.json')\n"
   ]
  },
  {
   "cell_type": "code",
   "execution_count": null,
   "id": "67bbdfdf-e80a-4de0-846d-ba2a0dc5b51a",
   "metadata": {},
   "outputs": [],
   "source": []
  }
 ],
 "metadata": {
  "kernelspec": {
   "display_name": "bpe_test",
   "language": "python",
   "name": "test"
  },
  "language_info": {
   "codemirror_mode": {
    "name": "ipython",
    "version": 3
   },
   "file_extension": ".py",
   "mimetype": "text/x-python",
   "name": "python",
   "nbconvert_exporter": "python",
   "pygments_lexer": "ipython3",
   "version": "3.8.18"
  }
 },
 "nbformat": 4,
 "nbformat_minor": 5
}
