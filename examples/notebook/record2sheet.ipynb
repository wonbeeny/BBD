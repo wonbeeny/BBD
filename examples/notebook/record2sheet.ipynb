{
 "cells": [
  {
   "cell_type": "code",
   "execution_count": 1,
   "id": "5cbca81d-396a-46a5-acc7-434ae60de8cb",
   "metadata": {
    "tags": []
   },
   "outputs": [],
   "source": [
    "from bbd.register.record2sheet import PreProcessor, PostProcessor"
   ]
  },
  {
   "cell_type": "code",
   "execution_count": 2,
   "id": "0c4b3546-e130-4468-84c7-1a32de639428",
   "metadata": {
    "tags": []
   },
   "outputs": [],
   "source": [
    "user_id = \"원빈\"\n",
    "user_text = \"사 / 5500 / ㅇㅈ / 재정관리ㄹㄹㄹ\"\n",
    "url = \"https://docs.google.com/spreadsheets/d/1lGG54Vqz4N7A4BuwRaTpzJXZHqWx57IAQg5cXF5eGR0/edit#gid=670084561\"\n",
    "user_json = {\n",
    "    \"원빈\": [\"../../repo/rm_soon/bbd-423608-45b92e7d4ee1.json\", url]\n",
    "}"
   ]
  },
  {
   "cell_type": "code",
   "execution_count": 3,
   "id": "a9182110-a0eb-4c9e-af4b-ef35dd065ba7",
   "metadata": {
    "tags": []
   },
   "outputs": [
    {
     "name": "stdout",
     "output_type": "stream",
     "text": [
      "PreProcessOutput(trial=True, outputs={'category': '사회적', 'amount': '5500', 'date': '2024.05.20', 'note': '재정관리ㄹㄹㄹ'}, errors=[])\n"
     ]
    }
   ],
   "source": [
    "test_pre = PreProcessor(user_id, user_text)\n",
    "aaa = test_pre()\n",
    "print(aaa)"
   ]
  },
  {
   "cell_type": "code",
   "execution_count": 4,
   "id": "a1ce97ca-96d9-4d6a-a969-6de224504bb5",
   "metadata": {
    "tags": []
   },
   "outputs": [
    {
     "name": "stdout",
     "output_type": "stream",
     "text": [
      "PostProcessOutput(trial=True, outputs='Yes~~~', errors=[])\n"
     ]
    }
   ],
   "source": [
    "trial = aaa.trial\n",
    "outputs = aaa.outputs\n",
    "errors = aaa.errors\n",
    "\n",
    "test_post = PostProcessor(trial, errors)\n",
    "bbb = test_post(user_json, user_id, outputs)\n",
    "print(bbb)"
   ]
  },
  {
   "cell_type": "markdown",
   "id": "ba78467a-17f4-4fd7-a0c5-5a687052e235",
   "metadata": {},
   "source": [
    "<br>\n",
    "<br>\n",
    "<br>\n",
    "\n",
    "EOD◼︎"
   ]
  }
 ],
 "metadata": {
  "kernelspec": {
   "display_name": "bpe_test",
   "language": "python",
   "name": "test"
  },
  "language_info": {
   "codemirror_mode": {
    "name": "ipython",
    "version": 3
   },
   "file_extension": ".py",
   "mimetype": "text/x-python",
   "name": "python",
   "nbconvert_exporter": "python",
   "pygments_lexer": "ipython3",
   "version": "3.8.18"
  }
 },
 "nbformat": 4,
 "nbformat_minor": 5
}
