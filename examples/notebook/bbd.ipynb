{
 "cells": [
  {
   "cell_type": "code",
   "execution_count": 1,
   "id": "ce6b7f48-bac3-4dc1-85aa-b14dec05f9f9",
   "metadata": {
    "tags": []
   },
   "outputs": [],
   "source": [
    "from bbd import worker"
   ]
  },
  {
   "cell_type": "code",
   "execution_count": 2,
   "id": "9f3aa218-6d3f-437d-9f4b-12915f0d2f7a",
   "metadata": {
    "tags": []
   },
   "outputs": [],
   "source": [
    "task = \"record\"\n",
    "user_request = {\n",
    "    \"user_id\": \"원빈\",\n",
    "    \"user_text\": \"지적 / 3000 / 2405.22 / 수요일은 개발하는 날\"\n",
    "}\n",
    "bbd_worker = worker(task, **user_request)"
   ]
  },
  {
   "cell_type": "code",
   "execution_count": 3,
   "id": "bf670216-93e3-44b3-982f-a052a27cfe25",
   "metadata": {
    "tags": []
   },
   "outputs": [],
   "source": [
    "url = \"https://docs.google.com/spreadsheets/d/1lGG54Vqz4N7A4BuwRaTpzJXZHqWx57IAQg5cXF5eGR0/edit#gid=670084561\"\n",
    "user_json = {\n",
    "    \"원빈\": [\"../../repo/rm_soon/bbd-423608-45b92e7d4ee1.json\", url]\n",
    "}\n",
    "\n",
    "output = bbd_worker(user_json)"
   ]
  },
  {
   "cell_type": "code",
   "execution_count": 4,
   "id": "b37f9c30-a17a-4498-a7b0-60b75c102cd7",
   "metadata": {
    "tags": []
   },
   "outputs": [
    {
     "data": {
      "text/plain": [
       "{'user_id': '원빈',\n",
       " 'trial': True,\n",
       " 'datetime': '2024-05-22 21:36:39',\n",
       " 'logType': None,\n",
       " 'logs': None}"
      ]
     },
     "execution_count": 4,
     "metadata": {},
     "output_type": "execute_result"
    }
   ],
   "source": [
    "output"
   ]
  },
  {
   "cell_type": "markdown",
   "id": "2cf38bcd-2a65-44fd-9230-57c937c77c4b",
   "metadata": {},
   "source": [
    "<br>\n",
    "<br>\n",
    "<br>\n",
    "\n",
    "EOD◼︎"
   ]
  }
 ],
 "metadata": {
  "kernelspec": {
   "display_name": "bpe_test",
   "language": "python",
   "name": "test"
  },
  "language_info": {
   "codemirror_mode": {
    "name": "ipython",
    "version": 3
   },
   "file_extension": ".py",
   "mimetype": "text/x-python",
   "name": "python",
   "nbconvert_exporter": "python",
   "pygments_lexer": "ipython3",
   "version": "3.8.18"
  }
 },
 "nbformat": 4,
 "nbformat_minor": 5
}
